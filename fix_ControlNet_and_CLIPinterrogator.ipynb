{
 "cells": [
  {
   "cell_type": "code",
   "execution_count": null,
   "metadata": {},
   "outputs": [],
   "source": [
    "!pip install clip-interrogator==0.6.0\n",
    "!pip install transformers\n",
    "!pip install einops \n",
    "!pip install pytorch-lightning==1.6.5 \n",
    "!pip install omegaconf\n",
    "\n",
    "!git clone https://github.com/StudyingLover/cmd_ControlNet.git\n",
    "\n",
    "!wget https://huggingface.co/lllyasviel/ControlNet/resolve/main/models/control_sd15_canny.pth \n",
    "!mv control_sd15_canny.pth /content/cmd_ControlNet/models\n",
    "\n",
    "!wget https://huggingface.co/lllyasviel/ControlNet/resolve/main/annotator/ckpts/body_pose_model.pth \n",
    "!mv body_pose_model.pth /content/cmd_ControlNet/annotator/ckpts\n",
    "\n",
    "!wget https://huggingface.co/lllyasviel/ControlNet/resolve/main/annotator/ckpts/dpt_hybrid-midas-501f0c75.pt \n",
    "!mv dpt_hybrid-midas-501f0c75.pt /content/cmd_ControlNet/annotator/ckpts\n",
    "\n",
    "!wget https://huggingface.co/lllyasviel/ControlNet/resolve/main/annotator/ckpts/hand_pose_model.pth \n",
    "!mv hand_pose_model.pth /content/cmd_ControlNet/annotator/ckpts\n",
    "\n",
    "!wget https://huggingface.co/lllyasviel/ControlNet/resolve/main/annotator/ckpts/mlsd_large_512_fp32.pth\n",
    "!mv mlsd_large_512_fp32.pth /content/cmd_ControlNet/annotator/ckpts\n",
    "\n",
    "!wget https://huggingface.co/lllyasviel/ControlNet/resolve/main/annotator/ckpts/mlsd_tiny_512_fp32.pth \n",
    "!mv mlsd_tiny_512_fp32.pth /content/cmd_ControlNet/annotator/ckpts\n",
    "\n",
    "!wget https://huggingface.co/lllyasviel/ControlNet/resolve/main/annotator/ckpts/network-bsds500.pth \n",
    "!mv network-bsds500.pth /content/cmd_ControlNet/annotator/ckpts\n",
    "\n",
    "!wget https://huggingface.co/lllyasviel/ControlNet/resolve/main/annotator/ckpts/upernet_global_small.pth \n",
    "!mv upernet_global_small.pth /content/cmd_ControlNet/annotator/ckpts\n",
    "\n",
    "!mv /content/cmd_ControlNet/* /content/\n",
    "!rm -rf /content/cmd_ControlNet"
   ]
  },
  {
   "cell_type": "code",
   "execution_count": null,
   "metadata": {},
   "outputs": [],
   "source": [
    "!python /content/fix_application.py"
   ]
  }
 ],
 "metadata": {
  "kernelspec": {
   "display_name": "Python 3",
   "language": "python",
   "name": "python3"
  },
  "language_info": {
   "codemirror_mode": {
    "name": "ipython",
    "version": 3
   },
   "file_extension": ".py",
   "mimetype": "text/x-python",
   "name": "python",
   "nbconvert_exporter": "python",
   "pygments_lexer": "ipython3",
   "version": "3.8.3"
  }
 },
 "nbformat": 4,
 "nbformat_minor": 4
}
